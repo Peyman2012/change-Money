{
 "cells": [
  {
   "cell_type": "code",
   "execution_count": 2,
   "metadata": {},
   "outputs": [
    {
     "name": "stdout",
     "output_type": "stream",
     "text": [
      "1 * 5000 + 1 * 2000 + 3 * 1000 = 10000\n",
      "1 * 5000 + 2 * 2000 + 1 * 1000 = 10000\n"
     ]
    }
   ],
   "source": [
    "for i in range(1,3):\n",
    "    for j in range(1,6):\n",
    "        for k in range(1,11):\n",
    "            if i*5000+j*2000+k*1000==10000:\n",
    "                print(i,\"*\",\"5000\",\"+\",j,\"*\",\"2000\",\"+\",k,\"*\",\"1000\",\"=\",\"10000\")"
   ]
  },
  {
   "cell_type": "code",
   "execution_count": null,
   "metadata": {},
   "outputs": [],
   "source": []
  }
 ],
 "metadata": {
  "kernelspec": {
   "display_name": "Python 3",
   "language": "python",
   "name": "python3"
  },
  "language_info": {
   "codemirror_mode": {
    "name": "ipython",
    "version": 3
   },
   "file_extension": ".py",
   "mimetype": "text/x-python",
   "name": "python",
   "nbconvert_exporter": "python",
   "pygments_lexer": "ipython3",
   "version": "3.6.13"
  }
 },
 "nbformat": 4,
 "nbformat_minor": 2
}
